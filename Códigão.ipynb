{
  "nbformat": 4,
  "nbformat_minor": 0,
  "metadata": {
    "colab": {
      "provenance": [],
      "authorship_tag": "ABX9TyOH/YXSETRttcJYMCBLj440",
      "include_colab_link": true
    },
    "kernelspec": {
      "name": "python3",
      "display_name": "Python 3"
    },
    "language_info": {
      "name": "python"
    }
  },
  "cells": [
    {
      "cell_type": "markdown",
      "metadata": {
        "id": "view-in-github",
        "colab_type": "text"
      },
      "source": [
        "<a href=\"https://colab.research.google.com/github/marikeiske/Py/blob/main/C%C3%B3dig%C3%A3o.ipynb\" target=\"_parent\"><img src=\"https://colab.research.google.com/assets/colab-badge.svg\" alt=\"Open In Colab\"/></a>"
      ]
    },
    {
      "cell_type": "markdown",
      "source": [
        "**Estruturas de dados em Python**"
      ],
      "metadata": {
        "id": "3WA__-d7v4NP"
      }
    },
    {
      "cell_type": "code",
      "execution_count": null,
      "metadata": {
        "colab": {
          "base_uri": "https://localhost:8080/"
        },
        "id": "MF0qTCXxsOKV",
        "outputId": "adb72921-575f-4a5f-96b8-b41189831bc8"
      },
      "outputs": [
        {
          "output_type": "stream",
          "name": "stdout",
          "text": [
            "Valores calculados\n",
            "Soma\n",
            "30\n",
            "Subtração\n",
            "-10\n",
            "MULTIPLICAÇÃO\n",
            "200\n",
            "Divisão\n",
            "0.5\n"
          ]
        }
      ],
      "source": [
        "valor1 = 10\n",
        "valor2 = 20\n",
        "resultado1 = valor1 + valor2\n",
        "resultado2 = valor1 - valor2\n",
        "resultado3 = valor1 * valor2\n",
        "resultado4 = valor1 / valor2\n",
        "print(\"Valores calculados\")\n",
        "print(\"Soma\")\n",
        "print(resultado1)\n",
        "print(\"Subtração\")\n",
        "print(resultado2)\n",
        "print(\"MULTIPLICAÇÃO\")\n",
        "print(resultado3)\n",
        "print(\"Divisão\")\n",
        "print(resultado4)\n"
      ]
    },
    {
      "cell_type": "markdown",
      "source": [
        "**Segundo**\n",
        " **exemplo**"
      ],
      "metadata": {
        "id": "5t1ytIn71T7G"
      }
    },
    {
      "cell_type": "code",
      "source": [
        "#Definição e inicialização das variaveis\n",
        "valor1 = 35.4\n",
        "valor2 = 90\n",
        "valor3 = \"Seu nome\"\n",
        "\n",
        "#Execução da lógica\n",
        "operacao = (valor1 + valor2) / 2\n",
        "operacaoAlternativa = valor1 + valor2 / 2\n",
        "\n",
        "#operacaoDiferente = valor2 + valor3\n",
        "\n",
        "#Apresentação dos resultados\n",
        "print(operacao)\n",
        "print(operacaoAlternativa)\n",
        "#print(operacaoDiferente)"
      ],
      "metadata": {
        "colab": {
          "base_uri": "https://localhost:8080/"
        },
        "id": "4smm5SFR1noV",
        "outputId": "c8bfb394-b434-457d-ab08-cc8af56a1969"
      },
      "execution_count": null,
      "outputs": [
        {
          "output_type": "stream",
          "name": "stdout",
          "text": [
            "62.7\n",
            "80.4\n"
          ]
        }
      ]
    },
    {
      "cell_type": "code",
      "source": [],
      "metadata": {
        "id": "UeUXUOI86bRU"
      },
      "execution_count": null,
      "outputs": []
    },
    {
      "cell_type": "markdown",
      "source": [
        "\n",
        "**Aplicação de condicionais no Python**\n",
        "\n",
        "Crie uma aplicação em Python que calcule a média de um aluno. A média é calculada com base em 4 avaliações, imprima a palavra Aprovado. Caso contrário, imprima a palavra Reprovado."
      ],
      "metadata": {
        "id": "Kj05wm4s6FWN"
      }
    },
    {
      "cell_type": "code",
      "source": [
        "valor1 = 3\n",
        "valor2 = 8\n",
        "valor3 = 3\n",
        "valor4 = 7\n",
        "\n",
        "media = (valor1 + valor2 + valor3 + valor4)/ 4\n",
        "\n",
        "#if media >= 6:\n",
        " #else:\n",
        "  #print(\"Reprovado\", media)\n",
        "\n",
        "if media >= 0 and media < 4:\n",
        "    print(\"Aluno  reprovado\")\n",
        "if media >= 4 and media < 5:\n",
        "    print(\"Aluno tem direito a Rec\")\n",
        "if media >= 5 and media < 8:\n",
        "    print(\"Aluno aprovado\")\n",
        "if media >= 8 and media <= 10:\n",
        "    print(\"Aluno aprovado, muito bem !!!\")\n",
        "\n",
        "print(\"A média semestral foi:\",media)"
      ],
      "metadata": {
        "colab": {
          "base_uri": "https://localhost:8080/"
        },
        "id": "r6t1fcsC6Nd8",
        "outputId": "1171f29d-1115-44d2-acc6-7a554e510ada"
      },
      "execution_count": null,
      "outputs": [
        {
          "output_type": "stream",
          "name": "stdout",
          "text": [
            "Aluno aprovado\n",
            "A média semestral foi: 5.25\n"
          ]
        }
      ]
    },
    {
      "cell_type": "markdown",
      "source": [
        "**Uso de operadores lógicos-aritiméticos no Python %**\n"
      ],
      "metadata": {
        "id": "YvXHaM0rMwOq"
      }
    },
    {
      "cell_type": "code",
      "source": [
        "valor1 = 10\n",
        "valor2 = 50\n",
        "\n",
        "resultadoDivisao = valor1 / valor2\n",
        "print(resultadoDivisao)\n",
        "\n",
        "resultadoComSimbolo = valor1 % valor2\n",
        "print(resultadoComSimbolo)"
      ],
      "metadata": {
        "colab": {
          "base_uri": "https://localhost:8080/"
        },
        "id": "yhXJekk0M8hp",
        "outputId": "c36206e8-6a55-4427-a714-cc65c0b96817"
      },
      "execution_count": null,
      "outputs": [
        {
          "output_type": "stream",
          "name": "stdout",
          "text": [
            "0.2\n",
            "10\n",
            "56\n"
          ]
        }
      ]
    },
    {
      "cell_type": "markdown",
      "source": [
        "**true or false**"
      ],
      "metadata": {
        "id": "fbsWH6f9Q_dh"
      }
    },
    {
      "cell_type": "code",
      "source": [
        "valor1 = False\n",
        "valor2 = True\n",
        "\n",
        "resultadoDoSimbolo = valor1 ^ valor2\n",
        "#resultadoDoSimbolo = valor1 & valor2\n",
        "#resultadoDoSimbolo = valor1 | valor2\n",
        "print(resultadoDoSimbolo)"
      ],
      "metadata": {
        "colab": {
          "base_uri": "https://localhost:8080/"
        },
        "id": "RUW_l1olREuA",
        "outputId": "8ea6e95c-794c-4c66-caf9-fdfac1762b37"
      },
      "execution_count": null,
      "outputs": [
        {
          "output_type": "stream",
          "name": "stdout",
          "text": [
            "True\n"
          ]
        }
      ]
    },
    {
      "cell_type": "markdown",
      "source": [
        "Crie um código em Python que calcule a velocidade instantânea de um projeto sendo lançado em velocidade constante. Utilize a equação v = e/t. Caso a velocidade seja maior que 10, avise o usuário que excedeu o limite.\n"
      ],
      "metadata": {
        "id": "TIpuwcBzWmxw"
      }
    },
    {
      "cell_type": "code",
      "source": [
        "\n",
        "espaco = 700\n",
        "tempo= 20\n",
        "\n",
        "velocidade = espaco / tempo\n",
        "\n",
        "if velocidade >= 0 and media < 10:\n",
        "    print(\"Está no limite\", velocidade)\n",
        "if velocidade >= 10:\n",
        "    print(\"Excedeu o limite !!! \", velocidade)"
      ],
      "metadata": {
        "colab": {
          "base_uri": "https://localhost:8080/"
        },
        "id": "nZ3r67dpXJ_4",
        "outputId": "b515314b-3f54-4d63-8a63-9c1de8410245"
      },
      "execution_count": null,
      "outputs": [
        {
          "output_type": "stream",
          "name": "stdout",
          "text": [
            "Está no limite 35.0\n",
            "Excedeu o limite !!!  35.0\n"
          ]
        }
      ]
    },
    {
      "cell_type": "markdown",
      "source": [
        "Crie um código em Python que indentifique se o número digitado é positivo ou negativo.  Além disso, indentifique se o número é par ou ímpar\n"
      ],
      "metadata": {
        "id": "Hc5XEvf-cl0e"
      }
    },
    {
      "cell_type": "code",
      "source": [
        "num1 = float(input(\"Insira o valor:\"))\n",
        "num2 = float(input(\"Insira o valor:\"))\n",
        "resultado = num1 + num2\n",
        "if resultado < 0:\n",
        "  print(\"esse numero é negativo\", resultado)\n",
        "if resultado  >= 0:\n",
        "  print(\"esse numero é positivo\", resultado)\n",
        "if resultado % 2:\n",
        " print(\"esse numero é impar\")\n",
        "else:\n",
        "  print(\"Esse numero é par\")"
      ],
      "metadata": {
        "colab": {
          "base_uri": "https://localhost:8080/"
        },
        "id": "GvuQ7qpKcli3",
        "outputId": "558c4da2-06f8-4b25-f475-82d076a7f286"
      },
      "execution_count": null,
      "outputs": [
        {
          "output_type": "stream",
          "name": "stdout",
          "text": [
            "Insira o valor:-9\n",
            "Insira o valor:-2\n",
            "esse numero é negativo -11.0\n",
            "esse numero é impar\n"
          ]
        }
      ]
    }
  ]
}