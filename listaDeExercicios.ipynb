{
  "nbformat": 4,
  "nbformat_minor": 0,
  "metadata": {
    "colab": {
      "provenance": [],
      "include_colab_link": true
    },
    "kernelspec": {
      "name": "python3",
      "display_name": "Python 3"
    },
    "language_info": {
      "name": "python"
    }
  },
  "cells": [
    {
      "cell_type": "markdown",
      "metadata": {
        "id": "view-in-github",
        "colab_type": "text"
      },
      "source": [
        "<a href=\"https://colab.research.google.com/github/marikeiske/Py/blob/main/listaDeExercicios.ipynb\" target=\"_parent\"><img src=\"https://colab.research.google.com/assets/colab-badge.svg\" alt=\"Open In Colab\"/></a>"
      ]
    },
    {
      "cell_type": "markdown",
      "source": [
        "Exercício 1 - Crie um programa que verifique se um número é positivo, negativo ou zero."
      ],
      "metadata": {
        "id": "IksjW5AJWkSV"
      }
    },
    {
      "cell_type": "code",
      "execution_count": null,
      "metadata": {
        "id": "zPGZHNudWkSV"
      },
      "outputs": [],
      "source": [
        "numero = float(input(\"Digite um número: \"))\n",
        "\n",
        "if numero > 0:\n",
        "    print(\"O número é positivo.\")\n",
        "elif numero < 0:\n",
        "    print(\"O número é negativo.\")\n",
        "else:\n",
        "    print(\"O número é zero.\")\n"
      ]
    },
    {
      "cell_type": "markdown",
      "source": [
        "Exercício 2 - Escreva um programa que determine se um número é par ou ímpar."
      ],
      "metadata": {
        "id": "_UdiiMAUWkpC"
      }
    },
    {
      "cell_type": "code",
      "execution_count": null,
      "metadata": {
        "id": "i16o3MS7WkpC"
      },
      "outputs": [],
      "source": [
        "numero = int(input(\"Digite um número: \"))\n",
        "\n",
        "if numero % 2 == 0:\n",
        "    print(\"O número é par.\")\n",
        "else:\n",
        "    print(\"O número é ímpar.\")\n"
      ]
    },
    {
      "cell_type": "markdown",
      "source": [
        "Exercício 3 - Faça um programa que compare dois números e indique qual é o maior."
      ],
      "metadata": {
        "id": "2yMH66XHWk6J"
      }
    },
    {
      "cell_type": "code",
      "execution_count": null,
      "metadata": {
        "id": "C0lPF67RWk6J"
      },
      "outputs": [],
      "source": [
        "numero1 = float(input(\"Digite o primeiro número: \"))\n",
        "numero2 = float(input(\"Digite o segundo número: \"))\n",
        "\n",
        "if numero1 > numero2:\n",
        "    print(\"O primeiro número é maior.\")\n",
        "elif numero2 > numero1:\n",
        "    print(\"O segundo número é maior.\")\n",
        "else:\n",
        "    print(\"Os números são iguais.\")\n"
      ]
    },
    {
      "cell_type": "markdown",
      "source": [
        "Exercício 4 - Crie um programa que calcule o IMC (Índice de Massa Corporal) de uma pessoa."
      ],
      "metadata": {
        "id": "DwDqJH-qWlGX"
      }
    },
    {
      "cell_type": "code",
      "execution_count": null,
      "metadata": {
        "id": "pioiBhXJWlGY"
      },
      "outputs": [],
      "source": [
        "peso = float(input(\"Digite o peso em kg: \"))\n",
        "altura = float(input(\"Digite a altura em metros: \"))\n",
        "\n",
        "imc = peso / (altura ** 2)\n",
        "\n",
        "print(\"O IMC é:\", imc)\n",
        "\n"
      ]
    },
    {
      "cell_type": "markdown",
      "source": [
        "Exercício 5- Escreva um programa que verifique se um ano é bissexto."
      ],
      "metadata": {
        "id": "9maxb9-nWlPN"
      }
    },
    {
      "cell_type": "code",
      "execution_count": null,
      "metadata": {
        "id": "MCte_hfFWlPN"
      },
      "outputs": [],
      "source": [
        "ano = int(input(\"Digite um ano: \"))\n",
        "\n",
        "if (ano % 4 == 0 and ano % 100 != 0) or (ano % 400 == 0):\n",
        "    print(\"O ano é bissexto.\")\n",
        "else:\n",
        "    print(\"O ano não é bissexto.\")\n",
        "\n"
      ]
    },
    {
      "cell_type": "markdown",
      "source": [
        "Exercício 6- Faça um programa que determine se um número é primo."
      ],
      "metadata": {
        "id": "39YKpATIWlXd"
      }
    },
    {
      "cell_type": "code",
      "execution_count": null,
      "metadata": {
        "colab": {
          "base_uri": "https://localhost:8080/"
        },
        "id": "05Fyo4lgWlXd",
        "outputId": "38619f0f-e73e-4edf-e02a-cc1ec054b660"
      },
      "outputs": [
        {
          "output_type": "stream",
          "name": "stdout",
          "text": [
            "Digite um número: 1\n",
            "O número não é primo.\n"
          ]
        }
      ],
      "source": [
        "def verifica_primo(numero, divisor=3):\n",
        "    # Verifica se o número é menor que 2\n",
        "    if numero < 2:\n",
        "        return False\n",
        "    # Verifica se o número é igual a 2\n",
        "    elif numero == 2:\n",
        "        return True\n",
        "    # Verifica se o número é divisível por 2\n",
        "    elif numero % 2 == 0:\n",
        "        return False\n",
        "    # Verifica divisibilidade por todos os números ímpares até a raiz quadrada do número\n",
        "    elif divisor * divisor > numero:\n",
        "        return True\n",
        "    # Verifica se o número é divisível pelo divisor atual\n",
        "    elif numero % divisor == 0:\n",
        "        return False\n",
        "    # Chama recursivamente a função com o próximo divisor ímpar\n",
        "    else:\n",
        "        return verifica_primo(numero, divisor + 2)\n",
        "\n",
        "numero = int(input(\"Digite um número: \"))\n",
        "\n",
        "if verifica_primo(numero):\n",
        "    print(\"O número é primo.\")\n",
        "else:\n",
        "    print(\"O número não é primo.\")\n",
        "\n"
      ]
    },
    {
      "cell_type": "markdown",
      "source": [
        "Exercício 7 - Crie um programa que converta uma temperatura de Celsius para Fahrenheit."
      ],
      "metadata": {
        "id": "br8R3ofKWlfK"
      }
    },
    {
      "cell_type": "code",
      "execution_count": null,
      "metadata": {
        "id": "MBDDQOUIWlfK"
      },
      "outputs": [],
      "source": [
        "celsius = float(input(\"Digite a temperatura em Celsius: \"))\n",
        "\n",
        "fahrenheit = (celsius * 9/5) + 32\n",
        "\n",
        "print(\"A temperatura em Fahrenheit é:\", fahrenheit)\n"
      ]
    },
    {
      "cell_type": "markdown",
      "source": [
        "Exercício 8 - Escreva um programa que calcule a média de três notas e indique se o aluno foi aprovado ou reprovado."
      ],
      "metadata": {
        "id": "OlVmTrUwWlmT"
      }
    },
    {
      "cell_type": "code",
      "execution_count": null,
      "metadata": {
        "id": "gBbsNm9gWlmT"
      },
      "outputs": [],
      "source": [
        "nota1 = float(input(\"Digite a primeira nota: \"))\n",
        "nota2 = float(input(\"Digite a segunda nota: \"))\n",
        "nota3 = float(input(\"Digite a terceira nota: \"))\n",
        "\n",
        "media = (nota1 + nota2 + nota3) / 3\n",
        "\n",
        "if media >= 7:\n",
        "    print(\"Aluno aprovado.\")\n",
        "else:\n",
        "    print(\"Aluno reprovado.\")\n"
      ]
    },
    {
      "cell_type": "markdown",
      "source": [
        "Exercício 9 - Faça um programa que determine se um número é múltiplo de outro."
      ],
      "metadata": {
        "id": "e4u_vuheWltZ"
      }
    },
    {
      "cell_type": "code",
      "execution_count": null,
      "metadata": {
        "id": "5Hf8Gy6_Wlta"
      },
      "outputs": [],
      "source": [
        "numero1 = int(input(\"Digite o primeiro número: \"))\n",
        "numero2 = int(input(\"Digite o segundo número: \"))\n",
        "\n",
        "if numero1 % numero2 == 0 or numero2 % numero1 == 0:\n",
        "    print(\"Um número é múltiplo do outro.\")\n",
        "else:\n",
        "    print(\"Os números não são múltiplos um do outro.\")\n"
      ]
    },
    {
      "cell_type": "markdown",
      "source": [
        "Exercício 10 -\tEscreva um programa que converta uma quantidade de tempo em segundos para horas, minutos e segundos."
      ],
      "metadata": {
        "id": "BE2W781yWl0G"
      }
    },
    {
      "cell_type": "code",
      "execution_count": null,
      "metadata": {
        "id": "alezehGSWl0G"
      },
      "outputs": [],
      "source": [
        "segundos = int(input(\"Digite a quantidade de segundos: \"))\n",
        "\n",
        "horas = segundos // 3600\n",
        "minutos = (segundos % 3600) // 60\n",
        "segundos_restantes = segundos % 60\n",
        "\n",
        "print(\"Horas:\", horas)\n",
        "print(\"Minutos:\", minutos)\n",
        "print(\"Segundos:\", segundos_restantes)\n",
        "\n"
      ]
    },
    {
      "cell_type": "markdown",
      "source": [
        "Exercício 11 -\tEscreva um programa que calcule o desconto de um produto com base no valor e na porcentagem de desconto."
      ],
      "metadata": {
        "id": "GcTdGW5UWl6Z"
      }
    },
    {
      "cell_type": "code",
      "execution_count": null,
      "metadata": {
        "id": "gDHY9K8vWl6Z"
      },
      "outputs": [],
      "source": [
        "numero = float(input(\"Digite um número: \"))\n",
        "valor = float(input(\"Digite o valor do produto: \"))\n",
        "desconto = float(input(\"Digite a porcentagem de desconto: \"))\n",
        "\n",
        "valor_descontado = valor * (desconto / 100)\n",
        "valor_final = valor - valor_descontado\n",
        "\n",
        "print(\"O valor do produto com desconto é:\", valor_final)\n"
      ]
    },
    {
      "cell_type": "markdown",
      "source": [
        "Exercício 12 - Escreva um programa que indique se uma pessoa pode dirigir com base na sua idade e se possui carteira de motorista."
      ],
      "metadata": {
        "id": "ha95ls3WWmAY"
      }
    },
    {
      "cell_type": "code",
      "execution_count": null,
      "metadata": {
        "id": "FcE-U_EwWmAY"
      },
      "outputs": [],
      "source": [
        "idade = int(input(\"Digite sua idade: \"))\n",
        "tem_carteira = input(\"Você possui carteira de motorista? (sim/não): \")\n",
        "\n",
        "if idade >= 18 and tem_carteira == \"sim\":\n",
        "    print(\"Você pode dirigir.\")\n",
        "else:\n",
        "    print(\"Você não pode dirigir.\")\n",
        "\n"
      ]
    },
    {
      "cell_type": "markdown",
      "source": [
        "Exercício 13 - Crie um programa que converta uma velocidade em km/h para m/s."
      ],
      "metadata": {
        "id": "FncSU6xyWmGA"
      }
    },
    {
      "cell_type": "code",
      "execution_count": null,
      "metadata": {
        "id": "0UR6ZzbcWmGB"
      },
      "outputs": [],
      "source": [
        "velocidade_km_h = float(input(\"Digite a velocidade em km/h: \"))\n",
        "\n",
        "velocidade_m_s = velocidade_km_h / 3.6\n",
        "\n",
        "print(\"A velocidade em m/s é:\", velocidade_m_s)\n",
        "\n"
      ]
    },
    {
      "cell_type": "markdown",
      "source": [
        "Exercício 14 - Escreva um programa que determine se um número é positivo e ímpar."
      ],
      "metadata": {
        "id": "DcbVeb4pWmK4"
      }
    },
    {
      "cell_type": "code",
      "execution_count": null,
      "metadata": {
        "id": "w0zQP3dqWmK5"
      },
      "outputs": [],
      "source": [
        "numero = int(input(\"Digite um número: \"))\n",
        "\n",
        "if numero > 0 and numero % 2 != 0:\n",
        "    print(\"O número é positivo e ímpar.\")\n",
        "else:\n",
        "    print(\"O número não é positivo ou não é ímpar.\")\n",
        "\n"
      ]
    },
    {
      "cell_type": "markdown",
      "source": [
        "Exercício 15 - Faça um programa que determine se um número é divisível por 3 e por 5 ao mesmo tempo."
      ],
      "metadata": {
        "id": "otIgKfI0WmQa"
      }
    },
    {
      "cell_type": "code",
      "execution_count": null,
      "metadata": {
        "id": "sDQJQltkWmQa"
      },
      "outputs": [],
      "source": [
        "numero = int(input(\"Digite um número: \"))\n",
        "\n",
        "if numero % 3 == 0 and numero % 5 == 0:\n",
        "    print(\"O número é divisível por 3 e por 5 ao mesmo tempo.\")\n",
        "else:\n",
        "    print(\"O número não é divisível por 3 e por 5 ao mesmo tempo.\")\n",
        "\n"
      ]
    },
    {
      "cell_type": "markdown",
      "source": [
        "Exercício 16 - Crie um programa que calcule o fatorial de um número."
      ],
      "metadata": {
        "id": "ee4wOBKBWmVx"
      }
    },
    {
      "cell_type": "code",
      "execution_count": null,
      "metadata": {
        "id": "YxHUM_G0WmVy"
      },
      "outputs": [],
      "source": [
        "#usando recursividade\n",
        "def fatorial(n):\n",
        "    # Caso base: se n for 0 ou 1, o fatorial é 1\n",
        "    if n == 0 or n == 1:\n",
        "        return 1\n",
        "    # Caso recursivo: retorna n multiplicado pelo fatorial de (n-1)\n",
        "    else:\n",
        "        return n * fatorial(n - 1)\n",
        "\n",
        "numero = int(input(\"Digite um número para calcular o fatorial: \"))\n",
        "resultado = fatorial(numero)\n",
        "print(\"O fatorial de\", numero, \"é\", resultado)"
      ]
    },
    {
      "cell_type": "markdown",
      "source": [
        "Exercício 17 - Escreva um programa que verifique se um número é perfeito."
      ],
      "metadata": {
        "id": "C7K7QSSFWmbZ"
      }
    },
    {
      "cell_type": "code",
      "execution_count": null,
      "metadata": {
        "id": "IqsUsEqIWmbZ"
      },
      "outputs": [],
      "source": [
        "#usando recursividade\n",
        "def verifica_perfeito(numero, divisor=1, soma=0):\n",
        "    # Caso base: se o divisor for igual ao número, terminamos a recursão\n",
        "    if divisor == numero:\n",
        "        # Verifica se a soma dos divisores próprios é igual ao número\n",
        "        if soma == numero:\n",
        "            return True\n",
        "        else:\n",
        "            return False\n",
        "    # Se o número for divisível pelo divisor atual, adicionamos à soma e chamamos recursivamente com o próximo divisor\n",
        "    elif numero % divisor == 0:\n",
        "        soma += divisor\n",
        "    # Chama recursivamente com o próximo divisor\n",
        "    return verifica_perfeito(numero, divisor + 1, soma)\n",
        "\n",
        "numero = int(input(\"Digite um número: \"))\n",
        "\n",
        "if verifica_perfeito(numero):\n",
        "    print(\"O número é perfeito.\")\n",
        "else:\n",
        "    print(\"O número não é perfeito.\")"
      ]
    },
    {
      "cell_type": "markdown",
      "source": [
        "Exercício 18 - Faça um programa que determine se um número é um quadrado perfeito."
      ],
      "metadata": {
        "id": "jH-TtISiWmhd"
      }
    },
    {
      "cell_type": "code",
      "execution_count": null,
      "metadata": {
        "colab": {
          "base_uri": "https://localhost:8080/"
        },
        "id": "R_WLRuizWmhd",
        "outputId": "be5de401-81b0-425b-8453-0ba4438e8986"
      },
      "outputs": [
        {
          "output_type": "stream",
          "name": "stdout",
          "text": [
            "Digite um número: 3\n",
            "O número não é um quadrado perfeito.\n"
          ]
        }
      ],
      "source": [
        "import math\n",
        "numero = int(input(\"Digite um número: \"))\n",
        "\n",
        "raiz_quadrada = math.sqrt(numero)\n",
        "\n",
        "if raiz_quadrada == int(raiz_quadrada):\n",
        "    print(\"O número é um quadrado perfeito.\")\n",
        "else:\n",
        "    print(\"O número não é um quadrado perfeito.\")\n"
      ]
    },
    {
      "cell_type": "code",
      "source": [
        "\n",
        "numero = int(input(\"Digite um número: \"))\n",
        "\n",
        "raiz_quadrada = numero**0.5\n",
        "\n",
        "if raiz_quadrada == int(raiz_quadrada):\n",
        "    print(\"O número é um quadrado perfeito.\")\n",
        "else:\n",
        "    print(\"O número não é um quadrado perfeito.\")\n"
      ],
      "metadata": {
        "colab": {
          "base_uri": "https://localhost:8080/"
        },
        "id": "KiwVefLzaH0W",
        "outputId": "d1cb10ca-d760-4dde-9e22-d52e38dbd09b"
      },
      "execution_count": null,
      "outputs": [
        {
          "output_type": "stream",
          "name": "stdout",
          "text": [
            "Digite um número: 3\n",
            "O número não é um quadrado perfeito.\n"
          ]
        }
      ]
    },
    {
      "cell_type": "markdown",
      "source": [
        "Exercício 19 - Crie um programa que determine o tipo de triângulo com base nos seus ângulos internos."
      ],
      "metadata": {
        "id": "cAc9lSMtWmoI"
      }
    },
    {
      "cell_type": "code",
      "execution_count": null,
      "metadata": {
        "id": "uf9sdy8KWmoI"
      },
      "outputs": [],
      "source": [
        "angulo1 = int(input(\"Digite o primeiro ângulo: \"))\n",
        "angulo2 = int(input(\"Digite o segundo ângulo: \"))\n",
        "angulo3 = int(input(\"Digite o terceiro ângulo: \"))\n",
        "\n",
        "soma_angulos = angulo1 + angulo2 + angulo3\n",
        "\n",
        "if soma_angulos == 180:\n",
        "    if angulo1 == angulo2 == angulo3:\n",
        "        print(\"O triângulo é equilátero.\")\n",
        "    elif angulo1 == angulo2 or angulo1 == angulo3 or angulo2 == angulo3:\n",
        "        print(\"O triângulo é isósceles.\")\n",
        "    else:\n",
        "        print(\"O triângulo é escaleno.\")\n",
        "else:\n",
        "    print(\"Os ângulos não formam um triângulo válido.\")\n"
      ]
    },
    {
      "cell_type": "markdown",
      "source": [
        "Exercício 20 - Escreva um programa que determine se uma pessoa pode votar com base na sua idade."
      ],
      "metadata": {
        "id": "w3Po2Pv4WmvB"
      }
    },
    {
      "cell_type": "code",
      "execution_count": null,
      "metadata": {
        "id": "2wYzMwYkWmvB"
      },
      "outputs": [],
      "source": [
        "idade = int(input(\"Digite sua idade: \"))\n",
        "\n",
        "if idade >= 16:\n",
        "    print(\"Você pode votar.\")\n",
        "else:\n",
        "    print(\"Você não pode votar.\")\n",
        "\n"
      ]
    },
    {
      "cell_type": "markdown",
      "source": [
        "Exercício 21 - Faça um programa que calcule a área de um triângulo com base e altura fornecidas pelo usuário."
      ],
      "metadata": {
        "id": "xe-T1iMOWm2o"
      }
    },
    {
      "cell_type": "code",
      "execution_count": null,
      "metadata": {
        "id": "02y3KEhqWm2o"
      },
      "outputs": [],
      "source": [
        "base = float(input(\"Digite a base do triângulo: \"))\n",
        "altura = float(input(\"Digite a altura do triângulo: \"))\n",
        "\n",
        "area = (base * altura) / 2\n",
        "\n",
        "print(\"A área do triângulo é:\", area)\n"
      ]
    },
    {
      "cell_type": "markdown",
      "source": [
        "Exercício 22 - Crie um programa que determine se um número é uma potência de 2."
      ],
      "metadata": {
        "id": "H_0idTBFWm9b"
      }
    },
    {
      "cell_type": "code",
      "execution_count": null,
      "metadata": {
        "id": "AAXAfDBoWm9b"
      },
      "outputs": [],
      "source": [
        "numero = int(input(\"Digite um número: \"))\n",
        "\n",
        "if (numero & (numero - 1)) == 0:\n",
        "    print(\"O número é uma potência de 2.\")\n",
        "else:\n",
        "    print(\"O número não é uma potência de 2.\")\n"
      ]
    },
    {
      "cell_type": "markdown",
      "source": [
        "Exercício 23 - Crie um programa que calcule o número de Fibonacci para um determinado termo."
      ],
      "metadata": {
        "id": "bd1onDwbWnDd"
      }
    },
    {
      "cell_type": "code",
      "execution_count": null,
      "metadata": {
        "id": "EdoJu45rWnDd"
      },
      "outputs": [],
      "source": [
        "# este será um desafio..."
      ]
    },
    {
      "cell_type": "markdown",
      "source": [
        "Exercício 24 - Crie um programa que calcule a raiz quadrada de um número inteiro, se existir."
      ],
      "metadata": {
        "id": "71RIl3CwWKBG"
      }
    },
    {
      "cell_type": "code",
      "execution_count": null,
      "metadata": {
        "id": "61bOp2n3WAjg"
      },
      "outputs": [],
      "source": [
        "numero = int(input(\"Digite um número inteiro: \"))\n",
        "\n",
        "if numero >= 0:\n",
        "    raiz_quadrada = numero ** 0.5\n",
        "    print(\"A raiz quadrada de\", numero, \"é\", raiz_quadrada)\n",
        "else:\n",
        "    print(\"Não é possível calcular a raiz quadrada de um número negativo.\")\n"
      ]
    },
    {
      "cell_type": "code",
      "source": [
        "import math\n",
        "numero = int(input(\"Digite um número inteiro: \"))\n",
        "\n",
        "if numero >= 0:\n",
        "    raiz_quadrada = math.sqrt(numero)\n",
        "    print(\"A raiz quadrada de\", numero, \"é\", raiz_quadrada)\n",
        "else:\n",
        "    print(\"Não é possível calcular a raiz quadrada de um número negativo.\")\n"
      ],
      "metadata": {
        "id": "73_Egcm1a2pT"
      },
      "execution_count": null,
      "outputs": []
    },
    {
      "cell_type": "markdown",
      "source": [
        "Exercício 25 - Crie um programa que identifique se um número é divisível por 7 e se é par ou ímpar."
      ],
      "metadata": {
        "id": "3q1BUYtEYhNX"
      }
    },
    {
      "cell_type": "code",
      "execution_count": null,
      "metadata": {
        "id": "xf6KF_Q_YhNX"
      },
      "outputs": [],
      "source": [
        "numero = int(input(\"Digite um número: \"))\n",
        "\n",
        "if numero % 7 == 0:\n",
        "    print(\"O número é divisível por 7.\")\n",
        "else:\n",
        "    print(\"O número não é divisível por 7.\")\n",
        "\n",
        "if numero % 2 == 0:\n",
        "    print(\"O número é par.\")\n",
        "else:\n",
        "    print(\"O número é ímpar.\")\n",
        "\n"
      ]
    }
  ]
}