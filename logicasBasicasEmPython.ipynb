{
  "nbformat": 4,
  "nbformat_minor": 0,
  "metadata": {
    "colab": {
      "provenance": [],
      "authorship_tag": "ABX9TyNXf+LygXdj9qW6G0l92dXQ",
      "include_colab_link": true
    },
    "kernelspec": {
      "name": "python3",
      "display_name": "Python 3"
    },
    "language_info": {
      "name": "python"
    }
  },
  "cells": [
    {
      "cell_type": "markdown",
      "metadata": {
        "id": "view-in-github",
        "colab_type": "text"
      },
      "source": [
        "<a href=\"https://colab.research.google.com/github/marikeiske/Py/blob/main/logicasBasicasEmPython.ipynb\" target=\"_parent\"><img src=\"https://colab.research.google.com/assets/colab-badge.svg\" alt=\"Open In Colab\"/></a>"
      ]
    },
    {
      "cell_type": "markdown",
      "source": [
        "Criar uma lógica para **calcular** o preço **total** de vendas de um **produto**"
      ],
      "metadata": {
        "id": "0fiKCqnX7frj"
      }
    },
    {
      "cell_type": "code",
      "source": [
        "precoTotalDeVendas = 0\n",
        "valorPorPeca = 0\n",
        "quantidade = 0\n",
        "\n",
        "valorPorPeca = float(input(\"Qual o valor unitário: \"))\n",
        "quantidade = int(input(\"Qual a quantidade: \"))\n",
        "precoTotalDeVendas = valorPorPeca*quantidade\n",
        "\n",
        "print(\"O valor total arrecadado foi: \", precoTotalDeVendas)"
      ],
      "metadata": {
        "colab": {
          "base_uri": "https://localhost:8080/"
        },
        "id": "YUd8Mw9P8R4i",
        "outputId": "85a6583c-dc08-4b5e-a3d7-8872ba2441e3"
      },
      "execution_count": null,
      "outputs": [
        {
          "output_type": "stream",
          "name": "stdout",
          "text": [
            "Qual o valor unitário: 7\n",
            "Qual a quantidade: 100\n",
            "O valor total arrecadado foi:  700.0\n"
          ]
        }
      ]
    }
  ]
}