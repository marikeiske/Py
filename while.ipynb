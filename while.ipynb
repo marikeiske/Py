{
  "nbformat": 4,
  "nbformat_minor": 0,
  "metadata": {
    "colab": {
      "provenance": [],
      "toc_visible": true,
      "authorship_tag": "ABX9TyNd9uJT4qtlPSMO4hnVVOEV",
      "include_colab_link": true
    },
    "kernelspec": {
      "name": "python3",
      "display_name": "Python 3"
    },
    "language_info": {
      "name": "python"
    }
  },
  "cells": [
    {
      "cell_type": "markdown",
      "metadata": {
        "id": "view-in-github",
        "colab_type": "text"
      },
      "source": [
        "<a href=\"https://colab.research.google.com/github/marikeiske/Py/blob/main/while.ipynb\" target=\"_parent\"><img src=\"https://colab.research.google.com/assets/colab-badge.svg\" alt=\"Open In Colab\"/></a>"
      ]
    },
    {
      "cell_type": "markdown",
      "source": [
        "**USANDO O WHILE**"
      ],
      "metadata": {
        "id": "0ThAzmUf6CvI"
      }
    },
    {
      "cell_type": "code",
      "execution_count": 3,
      "metadata": {
        "colab": {
          "base_uri": "https://localhost:8080/"
        },
        "id": "Z_O-yH6Tz0vI",
        "outputId": "10e094fc-5a00-4cea-b52f-aedc6d1c8678"
      },
      "outputs": [
        {
          "output_type": "stream",
          "name": "stdout",
          "text": [
            "Digite um valor: 10\n",
            "Ultimo valor recebido:  10\n",
            "Digite um valor: -9\n",
            "Ultimo valor recebido:  -9\n"
          ]
        }
      ],
      "source": [
        " valorRecebido = 0\n",
        "\n",
        " while valorRecebido >= 0:\n",
        "   valorRecebido = int(input(\"Digite um valor: \"))\n",
        "   print(\"Ultimo valor recebido: \", valorRecebido)"
      ]
    },
    {
      "cell_type": "markdown",
      "source": [
        "**1) Crie uma aplicação que solicita ao usuário para inserir números inteiros positivos repetidamente até\n",
        "que um número negativo seja inserido. Em seguida, o programa deve imprimir a soma de todos os\n",
        "números positivos inseridos.**"
      ],
      "metadata": {
        "id": "hJPx7qtU8nbl"
      }
    },
    {
      "cell_type": "code",
      "source": [
        "valorRecebido = 0\n",
        "soma = 0\n",
        "while valorRecebido >= 0:\n",
        "    valorRecebido = int(input(\"Digite o valor:\"))\n",
        "    if valorRecebido >= 0:\n",
        "        soma = soma + valorRecebido\n",
        "print(\"A soma desses numeros foi de: \",soma)\n"
      ],
      "metadata": {
        "colab": {
          "base_uri": "https://localhost:8080/"
        },
        "id": "f1Tf3eOR-Qoi",
        "outputId": "9e579c2e-efe3-4ed9-afd6-31675f738e02"
      },
      "execution_count": 13,
      "outputs": [
        {
          "output_type": "stream",
          "name": "stdout",
          "text": [
            "Digite o valor: 10\n",
            "Digite o valor: 2\n",
            "Digite o valor: -9\n",
            "A soma desses numeros foi de:  12\n"
          ]
        }
      ]
    },
    {
      "cell_type": "markdown",
      "source": [
        "**2) Escreva um código em Python que imprima uma contagem regressiva de 10 até 1 usando um loop\n",
        "while. Dica: use o método time.sleep(valor em segundos) para gerar a contagem.**"
      ],
      "metadata": {
        "id": "use4mHTP8qbb"
      }
    },
    {
      "cell_type": "code",
      "source": [
        "import time\n",
        "\n",
        "final = 10\n",
        "\n",
        "while final > 0 and final <= 10:\n",
        "  print(final)\n",
        "  time.sleep(1)\n",
        "  final -= 1\n"
      ],
      "metadata": {
        "colab": {
          "base_uri": "https://localhost:8080/"
        },
        "id": "gpbZGAe28tkT",
        "outputId": "62e3596e-0fdd-4938-f2ab-2f6040199d18"
      },
      "execution_count": 30,
      "outputs": [
        {
          "output_type": "stream",
          "name": "stdout",
          "text": [
            "10\n",
            "9\n",
            "8\n",
            "7\n",
            "6\n",
            "5\n",
            "4\n",
            "3\n",
            "2\n",
            "1\n"
          ]
        }
      ]
    },
    {
      "cell_type": "markdown",
      "source": [
        "**3) Elabore uma lógica que gera um número aleatório entre 1 e 100 e pede ao usuário para adivinhar o\n",
        "número. O programa deve continuar pedindo ao usuário para adivinhar até que o número correto\n",
        "seja adivinhado. Dê dicas ao usuário se o número a ser adivinhado é maior ou menor que o palpite\n",
        "atual. Dica: use o método random para realizar a operação de aleatoriedade.**"
      ],
      "metadata": {
        "id": "1P-5PIxj8uI0"
      }
    },
    {
      "cell_type": "code",
      "source": [
        "import random\n",
        "\n",
        "pessoa = -1\n",
        "numero = random.randint(1, 100)\n",
        "\n",
        "while pessoa != numero:\n",
        "  pessoa = int(input(\"Adivinha o número de 0 a 100: \"))\n",
        "\n",
        "  if pessoa > numero:\n",
        "   print(\"está perto\")\n",
        "  elif pessoa < numero:\n",
        "   print(\"Está longe\")\n",
        "\n",
        "print(numero)\n",
        "\n",
        "\n",
        "print(\"Acertou número\")"
      ],
      "metadata": {
        "id": "foFOdzeR8yPr"
      },
      "execution_count": null,
      "outputs": []
    },
    {
      "cell_type": "markdown",
      "source": [
        "**4) Escreva um programa que solicita ao usuário para inserir um número inteiro e, em seguida, imprima\n",
        "o valor desse número elevado a segunda, terceira e quarta potência.**"
      ],
      "metadata": {
        "id": "Z9PR-uIH8yvr"
      }
    },
    {
      "cell_type": "code",
      "source": [
        "potencia = 2\n",
        "\n",
        "num = int(input(\"Digite o num: \"))\n",
        "resultado = num\n",
        "\n",
        "while num >= 0 and potencia <= 4:\n",
        "  resultado = num ** potencia\n",
        "  potencia = potencia + 1\n",
        "  print(resultado)\n"
      ],
      "metadata": {
        "colab": {
          "base_uri": "https://localhost:8080/"
        },
        "id": "xI6jfGGq81ij",
        "outputId": "df5e7e3d-75b5-444c-f62c-31f89786ada9"
      },
      "execution_count": 58,
      "outputs": [
        {
          "output_type": "stream",
          "name": "stdout",
          "text": [
            "Digite o num: 9\n",
            "81\n",
            "729\n",
            "6561\n"
          ]
        }
      ]
    },
    {
      "cell_type": "markdown",
      "source": [
        "**5)Escreva um programa que solicita ao usuário para inserir suas notas de uma disciplina. O programa\n",
        "deve continuar solicitando notas até que o usuário insira um valor negativo, indicando o fim da\n",
        "entrada das notas. Em seguida, o programa deve calcular e imprimir a média das notas inseridas.**"
      ],
      "metadata": {
        "id": "KpfZGqM181v0"
      }
    },
    {
      "cell_type": "code",
      "source": [
        "nota = 0\n",
        "soma = 0\n",
        "media = soma\n",
        "contador = 0\n",
        "while nota >= 0:\n",
        "    nota = int(input(\"Digite o valor:\"))\n",
        "    if nota >= 0:\n",
        "        soma = soma + nota\n",
        "        contador = contador + 1\n",
        "print(\"A soma dessas notas foi de: \",soma)\n",
        "media = soma / contador\n",
        "print(\"A media foi: \", media)\n",
        "print(\"fim das notas\")"
      ],
      "metadata": {
        "colab": {
          "base_uri": "https://localhost:8080/"
        },
        "id": "AkszFrZ984vj",
        "outputId": "880b88a2-ac23-4a5e-da9e-3e163af5d329"
      },
      "execution_count": 75,
      "outputs": [
        {
          "output_type": "stream",
          "name": "stdout",
          "text": [
            "Digite o valor:10\n",
            "Digite o valor:9\n",
            "Digite o valor:8\n",
            "Digite o valor:-9\n",
            "A soma dessas notas foi de:  27\n",
            "A media foi:  9.0\n",
            "fim das notas\n"
          ]
        }
      ]
    }
  ]
}